{
 "cells": [
  {
   "cell_type": "code",
   "execution_count": 1,
   "metadata": {},
   "outputs": [],
   "source": [
    "import pandas as pd\n",
    "import matplotlib.pyplot as plt\n",
    "\n",
    "df = pd.read_csv(\"../../inputs/Environmental_Data_Deep_Moor_2015.csv\")"
   ]
  },
  {
   "cell_type": "markdown",
   "metadata": {},
   "source": [
    "# Number of Measurements\n",
    "Let's find out how often these measurements are being taken.\n",
    "1. get all the unique dates\n",
    "2. find the number of occurences of each date"
   ]
  },
  {
   "cell_type": "markdown",
   "metadata": {},
   "source": [
    "## Get the dates"
   ]
  },
  {
   "cell_type": "code",
   "execution_count": 3,
   "metadata": {},
   "outputs": [],
   "source": [
    "feb_records = df[df['date'].between('2015_02_01', '2015_02_28')]"
   ]
  },
  {
   "cell_type": "code",
   "execution_count": 4,
   "metadata": {},
   "outputs": [
    {
     "data": {
      "text/html": [
       "<div>\n",
       "<style scoped>\n",
       "    .dataframe tbody tr th:only-of-type {\n",
       "        vertical-align: middle;\n",
       "    }\n",
       "\n",
       "    .dataframe tbody tr th {\n",
       "        vertical-align: top;\n",
       "    }\n",
       "\n",
       "    .dataframe thead th {\n",
       "        text-align: right;\n",
       "    }\n",
       "</style>\n",
       "<table border=\"1\" class=\"dataframe\">\n",
       "  <thead>\n",
       "    <tr style=\"text-align: right;\">\n",
       "      <th></th>\n",
       "      <th>date</th>\n",
       "      <th>time</th>\n",
       "      <th>Air_Temp</th>\n",
       "      <th>Barometric_Press</th>\n",
       "      <th>Dew_Point</th>\n",
       "      <th>Relative_Humidity</th>\n",
       "      <th>Wind_Dir</th>\n",
       "      <th>Wind_Gust</th>\n",
       "      <th>Wind_Speed</th>\n",
       "    </tr>\n",
       "  </thead>\n",
       "  <tbody>\n",
       "    <tr>\n",
       "      <th>16604</th>\n",
       "      <td>2015_02_01</td>\n",
       "      <td>0:02:46</td>\n",
       "      <td>34.60</td>\n",
       "      <td>30.35</td>\n",
       "      <td>30.60</td>\n",
       "      <td>85.0</td>\n",
       "      <td>147.56</td>\n",
       "      <td>6</td>\n",
       "      <td>2.0</td>\n",
       "    </tr>\n",
       "    <tr>\n",
       "      <th>16605</th>\n",
       "      <td>2015_02_01</td>\n",
       "      <td>0:02:52</td>\n",
       "      <td>34.60</td>\n",
       "      <td>30.35</td>\n",
       "      <td>30.60</td>\n",
       "      <td>85.0</td>\n",
       "      <td>147.56</td>\n",
       "      <td>6</td>\n",
       "      <td>2.0</td>\n",
       "    </tr>\n",
       "    <tr>\n",
       "      <th>16606</th>\n",
       "      <td>2015_02_01</td>\n",
       "      <td>0:07:46</td>\n",
       "      <td>34.60</td>\n",
       "      <td>30.35</td>\n",
       "      <td>30.96</td>\n",
       "      <td>86.4</td>\n",
       "      <td>112.38</td>\n",
       "      <td>6</td>\n",
       "      <td>4.8</td>\n",
       "    </tr>\n",
       "    <tr>\n",
       "      <th>16607</th>\n",
       "      <td>2015_02_01</td>\n",
       "      <td>0:07:52</td>\n",
       "      <td>34.60</td>\n",
       "      <td>30.35</td>\n",
       "      <td>30.96</td>\n",
       "      <td>86.4</td>\n",
       "      <td>112.38</td>\n",
       "      <td>6</td>\n",
       "      <td>4.8</td>\n",
       "    </tr>\n",
       "    <tr>\n",
       "      <th>16608</th>\n",
       "      <td>2015_02_01</td>\n",
       "      <td>0:12:46</td>\n",
       "      <td>34.54</td>\n",
       "      <td>30.35</td>\n",
       "      <td>31.04</td>\n",
       "      <td>87.0</td>\n",
       "      <td>128.60</td>\n",
       "      <td>6</td>\n",
       "      <td>4.6</td>\n",
       "    </tr>\n",
       "    <tr>\n",
       "      <th>...</th>\n",
       "      <td>...</td>\n",
       "      <td>...</td>\n",
       "      <td>...</td>\n",
       "      <td>...</td>\n",
       "      <td>...</td>\n",
       "      <td>...</td>\n",
       "      <td>...</td>\n",
       "      <td>...</td>\n",
       "      <td>...</td>\n",
       "    </tr>\n",
       "    <tr>\n",
       "      <th>31793</th>\n",
       "      <td>2015_02_28</td>\n",
       "      <td>23:49:04</td>\n",
       "      <td>34.94</td>\n",
       "      <td>30.32</td>\n",
       "      <td>19.30</td>\n",
       "      <td>52.4</td>\n",
       "      <td>352.81</td>\n",
       "      <td>8</td>\n",
       "      <td>5.8</td>\n",
       "    </tr>\n",
       "    <tr>\n",
       "      <th>31794</th>\n",
       "      <td>2015_02_28</td>\n",
       "      <td>23:53:35</td>\n",
       "      <td>35.00</td>\n",
       "      <td>30.32</td>\n",
       "      <td>19.96</td>\n",
       "      <td>53.8</td>\n",
       "      <td>351.80</td>\n",
       "      <td>8</td>\n",
       "      <td>5.0</td>\n",
       "    </tr>\n",
       "    <tr>\n",
       "      <th>31795</th>\n",
       "      <td>2015_02_28</td>\n",
       "      <td>23:54:05</td>\n",
       "      <td>35.00</td>\n",
       "      <td>30.32</td>\n",
       "      <td>19.88</td>\n",
       "      <td>53.6</td>\n",
       "      <td>349.00</td>\n",
       "      <td>8</td>\n",
       "      <td>5.0</td>\n",
       "    </tr>\n",
       "    <tr>\n",
       "      <th>31796</th>\n",
       "      <td>2015_02_28</td>\n",
       "      <td>23:58:36</td>\n",
       "      <td>35.00</td>\n",
       "      <td>30.32</td>\n",
       "      <td>19.98</td>\n",
       "      <td>53.8</td>\n",
       "      <td>345.20</td>\n",
       "      <td>8</td>\n",
       "      <td>4.8</td>\n",
       "    </tr>\n",
       "    <tr>\n",
       "      <th>31797</th>\n",
       "      <td>2015_02_28</td>\n",
       "      <td>23:59:05</td>\n",
       "      <td>35.00</td>\n",
       "      <td>30.33</td>\n",
       "      <td>20.14</td>\n",
       "      <td>54.2</td>\n",
       "      <td>347.00</td>\n",
       "      <td>8</td>\n",
       "      <td>4.8</td>\n",
       "    </tr>\n",
       "  </tbody>\n",
       "</table>\n",
       "<p>15194 rows × 9 columns</p>\n",
       "</div>"
      ],
      "text/plain": [
       "             date      time  Air_Temp  Barometric_Press  Dew_Point  \\\n",
       "16604  2015_02_01   0:02:46     34.60             30.35      30.60   \n",
       "16605  2015_02_01   0:02:52     34.60             30.35      30.60   \n",
       "16606  2015_02_01   0:07:46     34.60             30.35      30.96   \n",
       "16607  2015_02_01   0:07:52     34.60             30.35      30.96   \n",
       "16608  2015_02_01   0:12:46     34.54             30.35      31.04   \n",
       "...           ...       ...       ...               ...        ...   \n",
       "31793  2015_02_28  23:49:04     34.94             30.32      19.30   \n",
       "31794  2015_02_28  23:53:35     35.00             30.32      19.96   \n",
       "31795  2015_02_28  23:54:05     35.00             30.32      19.88   \n",
       "31796  2015_02_28  23:58:36     35.00             30.32      19.98   \n",
       "31797  2015_02_28  23:59:05     35.00             30.33      20.14   \n",
       "\n",
       "       Relative_Humidity  Wind_Dir  Wind_Gust  Wind_Speed  \n",
       "16604               85.0    147.56          6         2.0  \n",
       "16605               85.0    147.56          6         2.0  \n",
       "16606               86.4    112.38          6         4.8  \n",
       "16607               86.4    112.38          6         4.8  \n",
       "16608               87.0    128.60          6         4.6  \n",
       "...                  ...       ...        ...         ...  \n",
       "31793               52.4    352.81          8         5.8  \n",
       "31794               53.8    351.80          8         5.0  \n",
       "31795               53.6    349.00          8         5.0  \n",
       "31796               53.8    345.20          8         4.8  \n",
       "31797               54.2    347.00          8         4.8  \n",
       "\n",
       "[15194 rows x 9 columns]"
      ]
     },
     "execution_count": 4,
     "metadata": {},
     "output_type": "execute_result"
    }
   ],
   "source": [
    "feb_records"
   ]
  },
  {
   "cell_type": "code",
   "execution_count": 5,
   "metadata": {},
   "outputs": [],
   "source": [
    "dates_in_feb = feb_records['date'].unique()"
   ]
  },
  {
   "cell_type": "markdown",
   "metadata": {},
   "source": [
    "# How many of each\n",
    "To do:\n",
    "- create a series of each date\n",
    "- create array with the numbers for all Feb dates"
   ]
  },
  {
   "cell_type": "code",
   "execution_count": 7,
   "metadata": {},
   "outputs": [],
   "source": [
    "counts = df['date'].value_counts()\n",
    "records_by_day = [counts[x] for x in dates_in_feb]"
   ]
  },
  {
   "cell_type": "code",
   "execution_count": 8,
   "metadata": {},
   "outputs": [
    {
     "data": {
      "text/plain": [
       "[<matplotlib.lines.Line2D at 0x14f0a3b50>]"
      ]
     },
     "execution_count": 8,
     "metadata": {},
     "output_type": "execute_result"
    },
    {
     "data": {
      "image/png": "[encoded data removed]",
      "text/plain": [
       "<Figure size 640x480 with 1 Axes>"
      ]
     },
     "metadata": {},
     "output_type": "display_data"
    }
   ],
   "source": [
    "plt.plot(dates_in_feb, records_by_day)"
   ]
  },
  {
   "cell_type": "code",
   "execution_count": 10,
   "metadata": {},
   "outputs": [
    {
     "data": {
      "text/plain": [
       "['2015_02_15']"
      ]
     },
     "execution_count": 10,
     "metadata": {},
     "output_type": "execute_result"
    }
   ],
   "source": [
    "[date for date in dates_in_feb if len(feb_records[feb_records['date']==date])<200]"
   ]
  },
  {
   "cell_type": "markdown",
   "metadata": {},
   "source": [
    "> There seems to be some kind of anomally with Feb 15 2015"
   ]
  },
  {
   "cell_type": "code",
   "execution_count": null,
   "metadata": {},
   "outputs": [],
   "source": []
  }
 ],
 "metadata": {
  "kernelspec": {
   "display_name": "Python 3 (ipykernel)",
   "language": "python",
   "name": "python3"
  },
  "language_info": {
   "codemirror_mode": {
    "name": "ipython",
    "version": 3
   },
   "file_extension": ".py",
   "mimetype": "text/x-python",
   "name": "python",
   "nbconvert_exporter": "python",
   "pygments_lexer": "ipython3",
   "version": "3.11.5"
  }
 },
 "nbformat": 4,
 "nbformat_minor": 2
}
